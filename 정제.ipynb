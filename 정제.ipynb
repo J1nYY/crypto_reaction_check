{
 "cells": [
  {
   "cell_type": "code",
   "execution_count": 171,
   "id": "e3ce8336",
   "metadata": {
    "scrolled": false
   },
   "outputs": [
    {
     "name": "stderr",
     "output_type": "stream",
     "text": [
      "C:\\Users\\user\\AppData\\Local\\Temp/ipykernel_11568/2203601556.py:15: FutureWarning: The default value of regex will change from True to False in a future version.\n",
      "  train_data['title'] = train_data['title'].str.replace('^ +', \"\")\n",
      "100%|███████████████████████████████████████████████████████████████████████████| 8226/8226 [00:00<00:00, 10034.05it/s]"
     ]
    },
    {
     "name": "stdout",
     "output_type": "stream",
     "text": [
      "단어 집합(vocabulary)의 크기 : 10301\n",
      "등장 빈도가 2번 이하인 희귀 단어의 수: 6994\n",
      "단어 집합에서 희귀 단어의 비율: 67.89632074555868\n",
      "전체 등장 빈도에서 희귀 단어 등장 빈도 비율: 13.630993801886945\n"
     ]
    },
    {
     "name": "stderr",
     "output_type": "stream",
     "text": [
      "\n"
     ]
    }
   ],
   "source": [
    "from nltk import Text\n",
    "import pandas as pd\n",
    "import numpy as np\n",
    "import re\n",
    "from tqdm import tqdm\n",
    "from nltk.corpus import stopwords  \n",
    "import urllib.request\n",
    "from nltk.tokenize import word_tokenize\n",
    "from tensorflow.keras.preprocessing.text import Tokenizer\n",
    "train_data = pd.read_table('2021-08-01 00_00_00.txt',encoding='ANSI')\n",
    "train_data['title'].nunique()\n",
    "train_data.drop_duplicates(subset=['title'], inplace=True)\n",
    "for x in range(len(train_data)):\n",
    "    train_data['title'].iloc[x]=re.sub(r'[^a-zA-Z ]', '',str(train_data['title'].iloc[x]))\n",
    "train_data['title'] = train_data['title'].str.replace('^ +', \"\")\n",
    "train_data['title'].replace('', np.nan, inplace=True)\n",
    "stop_words = set(stopwords.words('english')) \n",
    "X_train = []\n",
    "for sentence in tqdm(train_data['title']):\n",
    "    tokenized_sentence = word_tokenize(str(sentence)) # 토큰화\n",
    "    stopwords_removed_sentence = [word for word in tokenized_sentence if not word in stop_words] # 불용어 제거\n",
    "    X_train.append(stopwords_removed_sentence)\n",
    "tokenizer = Tokenizer()\n",
    "tokenizer.fit_on_texts(X_train)\n",
    "threshold = 3\n",
    "total_cnt = len(tokenizer.word_index) # 단어의 수\n",
    "rare_cnt = 0 # 등장 빈도수가 threshold보다 작은 단어의 개수를 카운트\n",
    "total_freq = 0 # 훈련 데이터의 전체 단어 빈도수 총 합\n",
    "rare_freq = 0 # 등장 빈도수가 threshold보다 작은 단어의 등장 빈도수의 총 합\n",
    "\n",
    "# 단어와 빈도수의 쌍(pair)을 key와 value로 받는다.\n",
    "for key, value in tokenizer.word_counts.items():\n",
    "    total_freq = total_freq + value\n",
    "\n",
    "    # 단어의 등장 빈도수가 threshold보다 작으면\n",
    "    if(value < threshold):\n",
    "        rare_cnt = rare_cnt + 1\n",
    "        rare_freq = rare_freq + value\n",
    "\n",
    "print('단어 집합(vocabulary)의 크기 :',total_cnt)\n",
    "print('등장 빈도가 %s번 이하인 희귀 단어의 수: %s'%(threshold - 1, rare_cnt))\n",
    "print(\"단어 집합에서 희귀 단어의 비율:\", (rare_cnt / total_cnt)*100)\n",
    "print(\"전체 등장 빈도에서 희귀 단어 등장 빈도 비율:\", (rare_freq / total_freq)*100)"
   ]
  },
  {
   "cell_type": "code",
   "execution_count": 172,
   "id": "3a31bf77",
   "metadata": {
    "scrolled": true
   },
   "outputs": [
    {
     "name": "stdout",
     "output_type": "stream",
     "text": [
      "6994\n",
      "3308\n"
     ]
    },
    {
     "name": "stderr",
     "output_type": "stream",
     "text": [
      "D:\\ananconda\\lib\\site-packages\\numpy\\core\\_asarray.py:102: VisibleDeprecationWarning: Creating an ndarray from ragged nested sequences (which is a list-or-tuple of lists-or-tuples-or ndarrays with different lengths or shapes) is deprecated. If you meant to do this, you must specify 'dtype=object' when creating the ndarray.\n",
      "  return array(a, dtype, copy=False, order=order)\n"
     ]
    }
   ],
   "source": [
    "vocab_size = total_cnt - rare_cnt + 1\n",
    "print(rare_cnt)\n",
    "print(vocab_size)\n",
    "tokenizer = Tokenizer(vocab_size) \n",
    "tokenizer.fit_on_texts(X_train)\n",
    "X_train = tokenizer.texts_to_sequences(X_train)\n",
    "drop_train = [index for index, sentence in enumerate(X_train) if len(sentence) < 1]\n",
    "X_train = np.delete(X_train, drop_train, axis=0)"
   ]
  },
  {
   "cell_type": "code",
   "execution_count": 173,
   "id": "d6164358",
   "metadata": {
    "scrolled": true
   },
   "outputs": [
    {
     "name": "stdout",
     "output_type": "stream",
     "text": [
      "리뷰의 최대 길이 : 104\n",
      "리뷰의 평균 길이 : 6.624875868917577\n"
     ]
    },
    {
     "data": {
      "image/png": "[encoded data removed]",
      "text/plain": [
       "<Figure size 432x288 with 1 Axes>"
      ]
     },
     "metadata": {
      "needs_background": "light"
     },
     "output_type": "display_data"
    }
   ],
   "source": [
    "print('리뷰의 최대 길이 :',max(len(l) for l in X_train))\n",
    "print('리뷰의 평균 길이 :',sum(map(len, X_train))/len(X_train))\n",
    "plt.hist([len(s) for s in X_train], bins=50)\n",
    "plt.xlabel('length of samples')\n",
    "plt.ylabel('number of samples')\n",
    "plt.show()"
   ]
  },
  {
   "cell_type": "code",
   "execution_count": 174,
   "id": "b18f5346",
   "metadata": {},
   "outputs": [
    {
     "name": "stdout",
     "output_type": "stream",
     "text": [
      "전체 샘플 중 길이가 20 이하인 샘플의 비율: 96.7974180734856\n"
     ]
    }
   ],
   "source": [
    "def below_threshold_len(max_len, nested_list):\n",
    "  count = 0\n",
    "  for sentence in nested_list:\n",
    "    if(len(sentence) <= max_len):\n",
    "        count = count + 1\n",
    "  print('전체 샘플 중 길이가 %s 이하인 샘플의 비율: %s'%(max_len, (count / len(nested_list))*100))\n",
    "max_len = 20 #조정\n",
    "below_threshold_len(max_len, X_train)"
   ]
  },
  {
   "cell_type": "code",
   "execution_count": 175,
   "id": "f486f5bb",
   "metadata": {},
   "outputs": [],
   "source": [
    "from tensorflow.keras.preprocessing.sequence import pad_sequences\n",
    "X_train = pad_sequences(X_train, maxlen = max_len)\n"
   ]
  },
  {
   "cell_type": "code",
   "execution_count": 176,
   "id": "8c312fed",
   "metadata": {
    "scrolled": true
   },
   "outputs": [],
   "source": [
    "word_index=list(tokenizer.word_index.keys())\n",
    "c=pd.DataFrame({'title':[]})\n",
    "a=''\n",
    "b=''\n",
    "for i in range(len(X_train)):\n",
    "    for j in range(len(X_train[i])):\n",
    "        if X_train[i][j]!=0:\n",
    "            a=word_index[X_train[i][j]-1]\n",
    "            b=b+' '+a\n",
    "    c.loc[i]=b\n",
    "    b=''"
   ]
  },
  {
   "cell_type": "code",
   "execution_count": 178,
   "id": "a49714fa",
   "metadata": {},
   "outputs": [],
   "source": [
    "c.to_csv(\"2021-08-01 00_00_00.csv\")"
   ]
  },
  {
   "cell_type": "code",
   "execution_count": null,
   "id": "9eb707d9",
   "metadata": {},
   "outputs": [],
   "source": []
  }
 ],
 "metadata": {
  "kernelspec": {
   "display_name": "Python 3 (ipykernel)",
   "language": "python",
   "name": "python3"
  },
  "language_info": {
   "codemirror_mode": {
    "name": "ipython",
    "version": 3
   },
   "file_extension": ".py",
   "mimetype": "text/x-python",
   "name": "python",
   "nbconvert_exporter": "python",
   "pygments_lexer": "ipython3",
   "version": "3.8.11"
  }
 },
 "nbformat": 4,
 "nbformat_minor": 5
}
